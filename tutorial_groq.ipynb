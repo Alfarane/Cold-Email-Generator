{
 "cells": [
  {
   "cell_type": "code",
   "execution_count": 9,
   "id": "a4af2e84-8309-45c6-947c-2aecc2acaf8f",
   "metadata": {},
   "outputs": [
    {
     "name": "stdout",
     "output_type": "stream",
     "text": [
      "A simple yet fascinating question!\n",
      "\n",
      "In various contexts, \"alpha\" can refer to different things. Here are a few common meanings:\n",
      "\n",
      "1. **Alpha (α)**: In mathematics and science, alpha (α) is the first letter of the Greek alphabet. It is often used as a symbol to represent a variable or a constant in mathematical equations, particularly in physics and engineering.\n",
      "2. **Alpha particle**: In physics, an alpha particle is a type of subatomic particle that consists of two protons and two neutrons bound together. It is emitted during certain types of radioactive decay.\n",
      "3. **Alpha (α) stock**: In finance, alpha (α) is a term used to describe the excess return of an investment relative to the return of a benchmark or market index. It is a measure of an investment's performance, with a higher alpha indicating better performance.\n",
      "4. **Alpha male**: In social and biological contexts, an alpha male is an individual that dominates or leads a group, often through physical strength, aggression, or social status. This term is commonly used in animal behavior, particularly in primates and wolves.\n",
      "5. **Alpha (α) wave**: In neuroscience, alpha waves are a type of brain wave that is associated with relaxation, closed eyes, and a state of reduced cortical activity. They are typically measured in the frequency range of 8-12 Hz.\n",
      "6. **Alpha (α) particle therapy**: In medicine, alpha particle therapy is a type of radiation therapy used to treat certain types of cancer. It involves the use of alpha particles to destroy cancer cells.\n",
      "\n",
      "These are just a few examples of the many meanings of \"alpha.\" The term is often used in various contexts to represent a sense of leadership, dominance, or excellence.\n"
     ]
    }
   ],
   "source": [
    "from langchain_groq import ChatGroq\n",
    "\n",
    "llm = ChatGroq(\n",
    "    model=\"llama3-8b-8192\",\n",
    "    temperature=0,\n",
    "    groq_api_key='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'\n",
    ")\n",
    "\n",
    "response = llm.invoke(\"what is alpha\")\n",
    "print(response.content)"
   ]
  },
  {
   "cell_type": "code",
   "execution_count": null,
   "id": "4e4c35cd-9605-4bb9-97ff-1bea0e68f646",
   "metadata": {},
   "outputs": [],
   "source": []
  }
 ],
 "metadata": {
  "kernelspec": {
   "display_name": "Python 3 (ipykernel)",
   "language": "python",
   "name": "python3"
  },
  "language_info": {
   "codemirror_mode": {
    "name": "ipython",
    "version": 3
   },
   "file_extension": ".py",
   "mimetype": "text/x-python",
   "name": "python",
   "nbconvert_exporter": "python",
   "pygments_lexer": "ipython3",
   "version": "3.12.4"
  }
 },
 "nbformat": 4,
 "nbformat_minor": 5
}
